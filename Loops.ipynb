{
 "cells": [
  {
   "cell_type": "markdown",
   "id": "004b1a0d",
   "metadata": {},
   "source": [
    "# Loops\n",
    "loops are a fundamental concept used to execute a block of code multiple times. A loop allows you to repeat a set of instructions until a certain condition is met.Loops are used when you need to repeat operations without writing the same code again and again.\n",
    "- For loops\n",
    "- while loops"
   ]
  },
  {
   "cell_type": "markdown",
   "id": "05053e8a",
   "metadata": {},
   "source": [
    "### For loops\n",
    "for loops are used to iterate over a sequence (like a list, tuple, string, or range) and execute a block of code repeatedly for each item in the sequence.\n",
    "```\n",
    "for variable in sequence:\n",
    "    # code to be executed"
   ]
  },
  {
   "cell_type": "code",
   "execution_count": null,
   "id": "ada9128d",
   "metadata": {},
   "outputs": [],
   "source": [
    "# 1- Iterating over a list\n",
    "fruits = [\"apple\", \"banana\", \"cherry\"]\n",
    "for i in fruits:\n",
    "    print(i , end = \",\")\n",
    "    "
   ]
  },
  {
   "cell_type": "code",
   "execution_count": null,
   "id": "a49caed7",
   "metadata": {},
   "outputs": [],
   "source": [
    "# 2- Iterating over a list as well as iterating every character of element of the list\n",
    "roomate = [\"sarthak\" , \"dravya\" , \"kalash\"] \n",
    "for name in roomate:                         #loop working - The loop first iteration - Reach \"sarthak\" \n",
    "    print(name )                             #then print sarthak\n",
    "    for character in name:                   #after that it enter the second loop and access element of \"sarthak\"\n",
    "        print(character , end = \" , \")       #print every character of \"sarthak\"\n",
    "    print(\"\")                                # and the second iteration start and continue till all element are finishes"
   ]
  },
  {
   "cell_type": "code",
   "execution_count": null,
   "id": "864dc849",
   "metadata": {},
   "outputs": [],
   "source": [
    "names = \"sarthak\"\n",
    "for i in names:\n",
    "    print(i)\n",
    "    if(i == \"h\"):\n",
    "        print(\"this is good\")"
   ]
  },
  {
   "cell_type": "code",
   "execution_count": null,
   "id": "1b937c9d",
   "metadata": {},
   "outputs": [],
   "source": [
    "# to print the number to a particular range \n",
    "for i in range(8):      # we use range() function , the range goes from 0 (if not define)to n-1 like range(8) so loop will go to 8-1 = 7 time\n",
    "    print(i)\n",
    "    "
   ]
  },
  {
   "cell_type": "code",
   "execution_count": null,
   "id": "f838b188",
   "metadata": {},
   "outputs": [],
   "source": [
    "for i in range(1,9):\n",
    "    print(i)   # here range is define from starting to end (end - n-1 means 9-1 = 8 loop will run 8 time from 1)"
   ]
  },
  {
   "cell_type": "code",
   "execution_count": null,
   "id": "da66136a",
   "metadata": {},
   "outputs": [],
   "source": [
    "# Using for loops with three parameter\n",
    "for i in range(1,12,3):      # The syntax- for i in range (starting , where to end , jump):\n",
    "    print(i)"
   ]
  },
  {
   "cell_type": "markdown",
   "id": "1f3ac553",
   "metadata": {},
   "source": []
  },
  {
   "cell_type": "markdown",
   "id": "e56a643e",
   "metadata": {},
   "source": [
    "## While Loop\n",
    "The while loop in Python is used to repeat a block of code as long as a condition is True.\n",
    "\n",
    "while condition:\n",
    "```\n",
    "    # Code to run"
   ]
  },
  {
   "cell_type": "code",
   "execution_count": null,
   "id": "6ecd75bb",
   "metadata": {},
   "outputs": [],
   "source": [
    "i = 1\n",
    "while(i<6):\n",
    "    print(i)\n",
    "    i = i+1"
   ]
  },
  {
   "cell_type": "code",
   "execution_count": null,
   "id": "9ababbd3",
   "metadata": {},
   "outputs": [],
   "source": [
    "# taking input from user until it write specific number and print loop is over\n",
    "\n",
    "i = int(input(\"Enter a number\"))\n",
    "while(i<38):            # here specific number is 38 \n",
    "    print(i)\n",
    "    i = int(input(\"Enter a number\"))\n",
    "print(i)    \n",
    "print(\"The loop is over\")"
   ]
  },
  {
   "cell_type": "markdown",
   "id": "22e1cac4",
   "metadata": {},
   "source": [
    "### while loop with else\n",
    "this is same like the while loop but else is executed when there is false condition inside the loop"
   ]
  },
  {
   "cell_type": "code",
   "execution_count": null,
   "id": "7f2a9b69",
   "metadata": {},
   "outputs": [],
   "source": [
    "# for example if you want to execute same problem from above with else\n",
    "i = int(input(\"Enter the number\"))\n",
    "while(i<38):\n",
    "    print(i)\n",
    "    i = int(input(\"Enter the number again\"))\n",
    "else:\n",
    "    print(i)\n",
    "    print(\"the loop is over\")\n"
   ]
  },
  {
   "cell_type": "markdown",
   "id": "0e0ee1a4",
   "metadata": {},
   "source": []
  },
  {
   "cell_type": "markdown",
   "id": "70f91bc4",
   "metadata": {},
   "source": [
    "### Practise Question of For and While Loop"
   ]
  },
  {
   "cell_type": "code",
   "execution_count": null,
   "id": "79360b60",
   "metadata": {},
   "outputs": [],
   "source": [
    "# Print all even numbers from 1 to 50 using for loop\n",
    "for i in range(1,51):\n",
    "    if(i%2 == 0):\n",
    "        print(i)\n"
   ]
  },
  {
   "cell_type": "code",
   "execution_count": null,
   "id": "e838d34c",
   "metadata": {},
   "outputs": [],
   "source": [
    "# Calculate the sum of first n natural numbers using while loop\n",
    "i = 0\n",
    "while(i<=0):\n",
    "    i = int(input(\"Enter the number\"))\n",
    "    i = i * (i+1) /2\n",
    "    print(i)"
   ]
  },
  {
   "cell_type": "code",
   "execution_count": null,
   "id": "715e9f63",
   "metadata": {},
   "outputs": [],
   "source": [
    "# Print each character of a string using a for loop\n",
    "string = \"sarthak\"\n",
    "for i in string:\n",
    "    print(i)"
   ]
  },
  {
   "cell_type": "code",
   "execution_count": null,
   "id": "70bc2e3f",
   "metadata": {},
   "outputs": [],
   "source": [
    "# Reverse a number using while loop (e.g., input: 1234, output: 4321)\n",
    "num = int(input(\"Enter the number\"))\n",
    "rev = 0\n",
    "\n",
    "while(num != 0):\n",
    "    digit = num%10\n",
    "    rev = rev*10 + digit\n",
    "    num = num // 10\n",
    "print(rev)"
   ]
  },
  {
   "cell_type": "code",
   "execution_count": null,
   "id": "05720f42",
   "metadata": {},
   "outputs": [],
   "source": [
    "#Check if a number is a palindrome using loops\n",
    "number = int(input(\"Enter the number\"))\n",
    "copy = number\n",
    "revnumber= 0;\n",
    "while(number != 0):\n",
    "    digit_num = number % 10\n",
    "    revnumber = revnumber*10 + digit_num\n",
    "    number = number // 10\n",
    "if(revnumber == copy):\n",
    "    print(\"It is a palindrome\")\n",
    "else:\n",
    "    print(\"It is not a palindrome\")"
   ]
  },
  {
   "cell_type": "code",
   "execution_count": null,
   "id": "08613227",
   "metadata": {},
   "outputs": [],
   "source": [
    "# Find the sum of digits of a number\n",
    "num = int(input(\"Enter the number\"))\n",
    "sum = 0 \n",
    "while(num != 0):\n",
    "    numb = num % 10\n",
    "    sum = sum+numb\n",
    "    num = num // 10\n",
    "print(sum)"
   ]
  },
  {
   "cell_type": "code",
   "execution_count": null,
   "id": "adb5ef93",
   "metadata": {},
   "outputs": [],
   "source": [
    "# Print Fibonacci series up to n terms\n",
    "num1 = 0\n",
    "num2 = 1\n",
    "count = 0\n",
    "num = int(input(\"Enter the number\"))\n",
    "while(count<num):\n",
    "    print(num1 , end= \"\")\n",
    "    num3 = num1+ num2\n",
    "    num1= num2\n",
    "    num2 = num3\n",
    "    count = count + 1\n"
   ]
  },
  {
   "cell_type": "code",
   "execution_count": null,
   "id": "d99d2be9",
   "metadata": {},
   "outputs": [],
   "source": [
    "# Create a simple login system:\n",
    "#Ask for username and password\n",
    "#Allow only 3 attempts\n",
    "#If correct, print \"Login successful\", else \"Account locked\"\n",
    "\n",
    "correct_user = \"sarthak\"\n",
    "correct_password = \"abc123\"\n",
    "\n",
    "attemp = 0 \n",
    "while(attemp < 3):\n",
    "    user = input(\"enter the username\")\n",
    "    password = input(\"Enter the password\")\n",
    "\n",
    "    if user == correct_user and password == correct_password:\n",
    "        print(\"login success\")\n",
    "        break\n",
    "    else:\n",
    "        print(\"invalid username or password\")\n",
    "        attemp = attemp + 1\n",
    "if attemp == 3:\n",
    "    print(\"Login failed\")"
   ]
  },
  {
   "cell_type": "markdown",
   "id": "2e5bb57d",
   "metadata": {},
   "source": [
    "### Break And Continue\n",
    "\n",
    "Break - Stops the loop immediately and comes out of the loop.It is Use when you want to exit the loop based on a condition.\n",
    "\n",
    "Continue - Skips the current loop iteration and goes to the next one.Use when you want to skip certain values but continue looping.\n"
   ]
  },
  {
   "cell_type": "code",
   "execution_count": null,
   "id": "2b8410f1",
   "metadata": {},
   "outputs": [],
   "source": [
    "# Keep asking the user for a number until they enter a multiple of 5 (using while)\n",
    "\n",
    "while(True):\n",
    "    ask = int(input(\"Enter the number\"))\n",
    "    if ask % 5 == 0:\n",
    "        print(\"You enter multiple of five that is \",ask)\n",
    "        break\n",
    "    else:\n",
    "        continue"
   ]
  },
  {
   "cell_type": "code",
   "execution_count": null,
   "id": "190dfb6e",
   "metadata": {},
   "outputs": [],
   "source": [
    "# Ask the user to enter numbers in a loop. Stop when they enter a negative number (break)\n",
    "num = 1 \n",
    "while(num !=0):\n",
    "    num = int(input(\"Enter the number\"))\n",
    "    print(num)\n",
    "    if num < 0:\n",
    "        print(\"you enter negative number\")\n",
    "        break\n"
   ]
  },
  {
   "cell_type": "code",
   "execution_count": null,
   "id": "9c267ed2",
   "metadata": {},
   "outputs": [],
   "source": [
    "# Ask the user to enter numbers in a loop. Stop when they enter a negative number (break)\n",
    "for i in range(1,21):\n",
    "    if(i % 2 != 0):\n",
    "        continue\n",
    "    else:\n",
    "        print(i)"
   ]
  },
  {
   "cell_type": "code",
   "execution_count": null,
   "id": "65a6fbc5",
   "metadata": {},
   "outputs": [],
   "source": [
    "# Print characters from a string, but stop when a vowel is found \n",
    "string = input(\"Enter string\")\n",
    "vowels = \"aeiouAEIOU\"\n",
    "for character in string:\n",
    "    if character in vowels:\n",
    "        break\n",
    "    else:\n",
    "        print(character)"
   ]
  },
  {
   "cell_type": "code",
   "execution_count": null,
   "id": "8d62de88",
   "metadata": {},
   "outputs": [],
   "source": [
    "# Print characters from a string, skipping all vowels\n",
    "string = input(\"Enter the string\")\n",
    "vowels = \"aeiouAEIOU\"\n",
    "for chara in string:\n",
    "    if chara in vowels:\n",
    "        continue\n",
    "    else:\n",
    "        print(chara)\n"
   ]
  },
  {
   "cell_type": "code",
   "execution_count": 13,
   "id": "a1c6301d",
   "metadata": {},
   "outputs": [
    {
     "name": "stdout",
     "output_type": "stream",
     "text": [
      "1\n",
      "2\n",
      "4\n",
      "5\n",
      "7\n",
      "8\n",
      "10\n"
     ]
    }
   ],
   "source": [
    "for i in range(1 , 51):\n",
    "    if i %3 == 0:\n",
    "        continue\n",
    "    elif (i % 11 == 0):\n",
    "        break\n",
    "    else:\n",
    "        print(i)"
   ]
  }
 ],
 "metadata": {
  "kernelspec": {
   "display_name": "Python 3",
   "language": "python",
   "name": "python3"
  },
  "language_info": {
   "codemirror_mode": {
    "name": "ipython",
    "version": 3
   },
   "file_extension": ".py",
   "mimetype": "text/x-python",
   "name": "python",
   "nbconvert_exporter": "python",
   "pygments_lexer": "ipython3",
   "version": "3.13.3"
  }
 },
 "nbformat": 4,
 "nbformat_minor": 5
}
