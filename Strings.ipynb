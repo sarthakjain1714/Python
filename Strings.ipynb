{
 "cells": [
  {
   "cell_type": "markdown",
   "id": "ecceabf5",
   "metadata": {},
   "source": [
    "# What is String?\n",
    "- String are sequence of character. We can use \" \"(double quote), ''(single quote), '''(triple quote)\n"
   ]
  },
  {
   "cell_type": "code",
   "execution_count": null,
   "id": "bab16c21",
   "metadata": {},
   "outputs": [],
   "source": [
    "t1 = \"hello\"\n",
    "print(t1)\n",
    " "
   ]
  },
  {
   "cell_type": "code",
   "execution_count": null,
   "id": "d451826c",
   "metadata": {},
   "outputs": [],
   "source": [
    "t2 = 'hello'\n",
    "print(t2)"
   ]
  },
  {
   "cell_type": "code",
   "execution_count": null,
   "id": "0bf18982",
   "metadata": {},
   "outputs": [],
   "source": [
    "\n",
    "t3 = '''hello\n",
    "    sarthak is a brave man'''\n",
    "print(t3)"
   ]
  },
  {
   "cell_type": "markdown",
   "id": "3debf4cd",
   "metadata": {},
   "source": [
    "# String Slicing\n",
    "- String slicing is a way to extract a specific portion (substring) from a string using the syntax string[start:stop:step]\n",
    "- String indexing start from 0 to n-1 where n is the total length in a string"
   ]
  },
  {
   "cell_type": "code",
   "execution_count": null,
   "id": "94e005a0",
   "metadata": {},
   "outputs": [],
   "source": [
    "text = \"python\"\n",
    "print(text[3]) # 3 index of 'python' is h starting index from 0 "
   ]
  },
  {
   "cell_type": "code",
   "execution_count": null,
   "id": "4a6abbc1",
   "metadata": {},
   "outputs": [],
   "source": [
    "text = \"python\"\n",
    "print(text[0:3]) # print from 0 index to 2"
   ]
  },
  {
   "cell_type": "code",
   "execution_count": null,
   "id": "fa2b6333",
   "metadata": {},
   "outputs": [],
   "source": [
    "text = \"python\"\n",
    "print(text[:3]) # it will autoconsider index 0 if we blank the starting index mention"
   ]
  },
  {
   "cell_type": "code",
   "execution_count": null,
   "id": "2a00b8e5",
   "metadata": {},
   "outputs": [],
   "source": [
    "text = \"python\"\n",
    "print(text[3:]) #auto consider stop index if not mention that is length(string)-1"
   ]
  },
  {
   "cell_type": "code",
   "execution_count": null,
   "id": "e3d87c54",
   "metadata": {},
   "outputs": [],
   "source": [
    "text = \"python\"\n",
    "print(text[-1]) #it will find the index by lenth(string) - (the index which is written in negative , here 6-1 = 5 , so index will be 5)"
   ]
  },
  {
   "cell_type": "code",
   "execution_count": null,
   "id": "ce58909d",
   "metadata": {},
   "outputs": [],
   "source": [
    "text = \"python\"\n",
    "print(text[-3:-1]) #the index will be (3:5)"
   ]
  },
  {
   "cell_type": "markdown",
   "id": "c26f66d9",
   "metadata": {},
   "source": [
    "# String Method \n",
    "String are Immutable and these Method are use to perform Operation the strings.The output by using these methods dont result change in actual variable of string instead it return a new copy of the string after applying the methods"
   ]
  },
  {
   "cell_type": "markdown",
   "id": "a5278a48",
   "metadata": {},
   "source": [
    "### 1- String.upper() \n",
    "it convert the entire string into Upper case letter"
   ]
  },
  {
   "cell_type": "code",
   "execution_count": null,
   "id": "d0747e25",
   "metadata": {},
   "outputs": [],
   "source": [
    "text = \"sarthak\"\n",
    "text.upper()"
   ]
  },
  {
   "cell_type": "markdown",
   "id": "7893226e",
   "metadata": {},
   "source": [
    "### 2- String.lower()\n",
    "it convert the entire string into lower case letter\n"
   ]
  },
  {
   "cell_type": "code",
   "execution_count": null,
   "id": "54471ca9",
   "metadata": {},
   "outputs": [],
   "source": [
    "text = \"SARTHAK\"\n",
    "text.lower()"
   ]
  },
  {
   "cell_type": "markdown",
   "id": "5ca18fe5",
   "metadata": {},
   "source": [
    "### 3- String.rstrip(\"x\")\n",
    "remove trailling character 'x' in a string"
   ]
  },
  {
   "cell_type": "code",
   "execution_count": null,
   "id": "3c0f592b",
   "metadata": {},
   "outputs": [],
   "source": [
    "text = \"sarthakjjj\"\n",
    "# now if i want to remove j which is a trailing character\n",
    "text.rstrip(\"j\")"
   ]
  },
  {
   "cell_type": "markdown",
   "id": "904d6be9",
   "metadata": {},
   "source": [
    "### 4-String.replace(\"old character\",\"new character\")\n",
    "this method replace character in a string \n"
   ]
  },
  {
   "cell_type": "code",
   "execution_count": null,
   "id": "a999cd60",
   "metadata": {},
   "outputs": [],
   "source": [
    "text = \"sarthak is a good boy\"\n",
    "text.replace(\"good\",\"bad\")"
   ]
  },
  {
   "cell_type": "markdown",
   "id": "83d92dd0",
   "metadata": {},
   "source": [
    "### 5- String.capitalize()\n",
    "this method capitalized the first letter and lower all the remaing character"
   ]
  },
  {
   "cell_type": "code",
   "execution_count": null,
   "id": "c85fc1b9",
   "metadata": {},
   "outputs": [],
   "source": [
    "text = \"sarthAk\"\n",
    "text.capitalize()"
   ]
  },
  {
   "cell_type": "markdown",
   "id": "b9ba84f9",
   "metadata": {},
   "source": [
    "### 6- String.center('width')\n",
    "this method center allign the string with padding\n",
    "for example. if a string has 2 letter/character to put it at center i enter width 6 means 2 character of the string and remaing 4 will be devided into two equal part 2 space on left and two on the right   "
   ]
  },
  {
   "cell_type": "code",
   "execution_count": null,
   "id": "f82fdc20",
   "metadata": {},
   "outputs": [],
   "source": [
    "text = \"JAIN\"\n",
    "text.center(8)"
   ]
  },
  {
   "cell_type": "markdown",
   "id": "a8723a19",
   "metadata": {},
   "source": [
    "### 7- String.count(\"x\")\n",
    "this method allow to count number of occurence of 'x' inside the string "
   ]
  },
  {
   "cell_type": "code",
   "execution_count": null,
   "id": "9693746f",
   "metadata": {},
   "outputs": [],
   "source": [
    "text = \"sarthak\"\n",
    "text.count(\"a\")"
   ]
  },
  {
   "cell_type": "markdown",
   "id": "c0a4cff7",
   "metadata": {},
   "source": [
    "### 8- String.endswith(\"x\")\n",
    "this method check if 'x' comes at end of the string it return bollean values"
   ]
  },
  {
   "cell_type": "code",
   "execution_count": null,
   "id": "ccfd799e",
   "metadata": {},
   "outputs": [],
   "source": [
    "text = \"sarthakjjj\"\n",
    "text.endswith(\"j\")"
   ]
  },
  {
   "cell_type": "markdown",
   "id": "1ca772dd",
   "metadata": {},
   "source": [
    "### 9- String.find(\"x\")\n",
    "this is to find the index of first occuring 'x'. It will return the index no or -1 if not found"
   ]
  },
  {
   "cell_type": "code",
   "execution_count": null,
   "id": "85109023",
   "metadata": {},
   "outputs": [],
   "source": [
    "text = \"sarthak\"\n",
    "text.find(\"t\")"
   ]
  },
  {
   "cell_type": "markdown",
   "id": "4163e939",
   "metadata": {},
   "source": [
    "### 10 - String.index(\"x\")\n",
    "this is similiar to find(), find the index of first occuring 'x'but It will return the index no or valueError if not found\n"
   ]
  },
  {
   "cell_type": "code",
   "execution_count": null,
   "id": "712883b4",
   "metadata": {},
   "outputs": [],
   "source": [
    "text= \"sarthak\"\n",
    "text.index(\"x\")"
   ]
  },
  {
   "cell_type": "markdown",
   "id": "982c107a",
   "metadata": {},
   "source": [
    "### 11- String.isalnum()\n",
    "check if the provided string is alphanumeric. means 'A-Z' 'a-z' and '0-9' and its combination but no special character like (@, $, % etc). It return bollean value"
   ]
  },
  {
   "cell_type": "code",
   "execution_count": null,
   "id": "92a71c20",
   "metadata": {},
   "outputs": [],
   "source": [
    "text= \"sarthak20\"\n",
    "text.isalnum()"
   ]
  },
  {
   "cell_type": "markdown",
   "id": "e97e8b04",
   "metadata": {},
   "source": [
    "### 12- String.isalpha()\n",
    "Check if the string only contains Alphabets no number and no character ('A-Z' 'a-z'). Return bollean value."
   ]
  },
  {
   "cell_type": "code",
   "execution_count": null,
   "id": "e0a1b205",
   "metadata": {},
   "outputs": [],
   "source": [
    "text= \"sarthak\"\n",
    "text.isalpha()"
   ]
  },
  {
   "cell_type": "markdown",
   "id": "72dff3c1",
   "metadata": {},
   "source": [
    "### 13- String.islower()\n",
    "check if the string is only in lower case letter.Return bollean value"
   ]
  },
  {
   "cell_type": "code",
   "execution_count": null,
   "id": "96e0c8bd",
   "metadata": {},
   "outputs": [],
   "source": [
    "text= \"sarthak\"\n",
    "text.islower()"
   ]
  },
  {
   "cell_type": "markdown",
   "id": "db815fcd",
   "metadata": {},
   "source": [
    "### 14- String.isupper()\n",
    "Check if the string is fully in upper case letters. It returns bollean value"
   ]
  },
  {
   "cell_type": "code",
   "execution_count": null,
   "id": "dfd4a38b",
   "metadata": {},
   "outputs": [],
   "source": [
    "text= \"SARTHAK\"\n",
    "text.isupper()"
   ]
  },
  {
   "cell_type": "markdown",
   "id": "0b3a1325",
   "metadata": {},
   "source": [
    "### 15- String.isspace()\n",
    "check if the string contains only spaces not a singlie value written in it.It return bollean value."
   ]
  },
  {
   "cell_type": "code",
   "execution_count": null,
   "id": "d435fb5a",
   "metadata": {},
   "outputs": [],
   "source": [
    "text= \"sarthak\"\n",
    "text.isspace()"
   ]
  },
  {
   "cell_type": "markdown",
   "id": "481f7bfe",
   "metadata": {},
   "source": [
    "### 16- String.istitle()\n",
    "check if each word start with capital letter in string.It return bollean value."
   ]
  },
  {
   "cell_type": "code",
   "execution_count": null,
   "id": "ba05c82e",
   "metadata": {},
   "outputs": [],
   "source": [
    "text= \"Sarthak Jain\"\n",
    "text.istitle()"
   ]
  },
  {
   "cell_type": "markdown",
   "id": "578b9825",
   "metadata": {},
   "source": [
    "### 17- String.isprintable()\n",
    "check if the string can be printable.No sequence like (\\n,\\t etc).It return bollean Value."
   ]
  },
  {
   "cell_type": "code",
   "execution_count": null,
   "id": "01921615",
   "metadata": {},
   "outputs": [],
   "source": [
    "text= \"sarthak\"\n",
    "text.isprintable()"
   ]
  },
  {
   "cell_type": "markdown",
   "id": "c2d8556c",
   "metadata": {},
   "source": [
    "### 18 - String.startwith(\"x\")\n",
    "check if the string is starting with 'x'.It also return bollean value. "
   ]
  },
  {
   "cell_type": "code",
   "execution_count": null,
   "id": "67196fc5",
   "metadata": {},
   "outputs": [],
   "source": [
    "text= \"sarthak\"\n",
    "text.startswith(\"s\")"
   ]
  },
  {
   "cell_type": "markdown",
   "id": "11afd2a4",
   "metadata": {},
   "source": [
    "### 19- String.title()\n",
    "this method allow to capitalize the first character of every word in a string "
   ]
  },
  {
   "cell_type": "code",
   "execution_count": null,
   "id": "43edfab2",
   "metadata": {},
   "outputs": [],
   "source": [
    "text= \"sarthak is a brave man\"\n",
    "text.title()\n"
   ]
  },
  {
   "cell_type": "markdown",
   "id": "337423c9",
   "metadata": {},
   "source": [
    "### 20- String.swapcase()\n",
    "convert lower letter to upper case and vice cersa."
   ]
  },
  {
   "cell_type": "code",
   "execution_count": null,
   "id": "c89d80f0",
   "metadata": {},
   "outputs": [],
   "source": [
    "text= \"saRthAk\"\n",
    "text.swapcase()\n"
   ]
  }
 ],
 "metadata": {
  "kernelspec": {
   "display_name": "Python 3",
   "language": "python",
   "name": "python3"
  },
  "language_info": {
   "codemirror_mode": {
    "name": "ipython",
    "version": 3
   },
   "file_extension": ".py",
   "mimetype": "text/x-python",
   "name": "python",
   "nbconvert_exporter": "python",
   "pygments_lexer": "ipython3",
   "version": "3.13.3"
  }
 },
 "nbformat": 4,
 "nbformat_minor": 5
}
