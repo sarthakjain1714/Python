{
 "cells": [
  {
   "cell_type": "markdown",
   "id": "0af63201",
   "metadata": {},
   "source": [
    "# Conditional Statement\n",
    "A conditional statement is a programming concept that allows a program to make decisions based on whether a condition is true or false.\n",
    "three things are used in conditional statement - If(): , elif(): , else:\n",
    "\n",
    "// Basic Syntax for conditional statement\n",
    "```\n",
    "if(condition): \n",
    "    code statement\n",
    "else:\n",
    "    code statement "
   ]
  },
  {
   "cell_type": "markdown",
   "id": "3a3561ec",
   "metadata": {},
   "source": [
    "#### Question1 - Check if a person is eligible for vote or not"
   ]
  },
  {
   "cell_type": "markdown",
   "id": "fd7002dd",
   "metadata": {},
   "source": []
  },
  {
   "cell_type": "code",
   "execution_count": null,
   "id": "d48af249",
   "metadata": {},
   "outputs": [],
   "source": [
    "age = int(input(\"Enter the Age\"))\n",
    "if(age>18):\n",
    "    print(\"He can vote\")\n",
    "else:\n",
    "    print(\"He can't vote\")    "
   ]
  },
  {
   "cell_type": "markdown",
   "id": "c56ae388",
   "metadata": {},
   "source": [
    "### Question: Grade Calculator\n",
    "Write a Python program that takes a student's score (an integer between 0 and 100) as input and prints the grade based on the following criteria:\n",
    "\n",
    "90 to 100: Grade A\n",
    "\n",
    "80 to 89: Grade B\n",
    "\n",
    "70 to 79: Grade C\n",
    "\n",
    "60 to 69: Grade D\n",
    "\n",
    "Below 60: Grade F\n",
    "\n",
    "Invalid Input: Print \"Invalid score\""
   ]
  },
  {
   "cell_type": "code",
   "execution_count": null,
   "id": "b18c645d",
   "metadata": {},
   "outputs": [],
   "source": [
    "marks = int(input(\"Enter the marks\"))\n",
    "if(marks<=100 and marks>=90):\n",
    "    print(\" GRADE A\")\n",
    "elif(marks<=89 and marks>=80):\n",
    "    print(\" GRADE B\")\n",
    "elif(marks<=79 and marks>=70):\n",
    "    print(\"GRADE C\")\n",
    "elif(marks<=69 and marks>=60):\n",
    "    print(\"GRADE D\")\n",
    "elif(marks<=59 and marks>=50):\n",
    "    print(\"GRADE E\")\n",
    "elif(marks<=49):\n",
    "    print(\"GRADE F\")\n",
    "else:\n",
    "    print(\"Invalid Marks\")"
   ]
  },
  {
   "cell_type": "markdown",
   "id": "11fa3307",
   "metadata": {},
   "source": [
    "### Question3 - Largest of Three Numbers\n",
    "Take three numbers as input and print the largest.\n",
    "\n",
    "Input: 3, 7, 5\n",
    "Output: Largest is 7"
   ]
  },
  {
   "cell_type": "code",
   "execution_count": 13,
   "id": "a2f200b2",
   "metadata": {},
   "outputs": [
    {
     "name": "stdout",
     "output_type": "stream",
     "text": [
      "The number bigger is 9\n"
     ]
    }
   ],
   "source": [
    "num1 = int(input(\"Enter first number\"))\n",
    "num2 = int(input(\"Enter second number\"))\n",
    "num3 = int(input(\"Enter third number\"))\n",
    "\n",
    "if(num1>num2 and num1>num3):\n",
    "    print(\"The number bigger is\",num1)\n",
    "elif(num2>num3 and num2>num1):\n",
    "    print(\"The number bigger is\",num2)\n",
    "else:\n",
    "    print(\"The number bigger is\",num3)\n"
   ]
  }
 ],
 "metadata": {
  "kernelspec": {
   "display_name": "Python 3",
   "language": "python",
   "name": "python3"
  },
  "language_info": {
   "codemirror_mode": {
    "name": "ipython",
    "version": 3
   },
   "file_extension": ".py",
   "mimetype": "text/x-python",
   "name": "python",
   "nbconvert_exporter": "python",
   "pygments_lexer": "ipython3",
   "version": "3.13.3"
  }
 },
 "nbformat": 4,
 "nbformat_minor": 5
}
