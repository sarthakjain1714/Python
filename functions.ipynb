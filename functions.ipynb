{
 "cells": [
  {
   "cell_type": "markdown",
   "id": "dac59dbc",
   "metadata": {},
   "source": [
    "# Functions\n",
    " function is a block of code that runs only when called. It helps you reuse code and organize your program.\n",
    "\n",
    " syntax:\n",
    " ```\n",
    " def function_name(parameters):\n",
    "    # code block\n",
    "    return something (optional)"
   ]
  },
  {
   "cell_type": "markdown",
   "id": "e3e3c69b",
   "metadata": {},
   "source": [
    "## Type of function\n",
    "### 1- Built-in Functions\n",
    "These are pre-defined by Python.\n",
    "\n",
    "Examples:\n",
    "\n",
    "print()\n",
    "\n",
    "len()\n",
    "\n",
    "### 2- User-Defined Functions\n",
    "Functions that you create.\n"
   ]
  },
  {
   "cell_type": "code",
   "execution_count": null,
   "id": "0e7e0a91",
   "metadata": {},
   "outputs": [],
   "source": [
    "def hello(a):\n",
    "    \n",
    "    print(\"Hello,\",a)\n",
    "name = input(\"enter the name\")\n",
    "hello(name)"
   ]
  },
  {
   "cell_type": "code",
   "execution_count": null,
   "id": "89c26991",
   "metadata": {},
   "outputs": [],
   "source": [
    "def infinite():\n",
    "    num = 1\n",
    "    while(num != 0):\n",
    "        print(num)\n",
    "        num = int(input(\"enter the number\"))\n",
    "        if num == 0:\n",
    "            print(\"you enter zero\")\n",
    "infinite()"
   ]
  },
  {
   "cell_type": "code",
   "execution_count": null,
   "id": "523e1bf9",
   "metadata": {},
   "outputs": [],
   "source": [
    "def add(a,b):\n",
    "    return a+b\n",
    "num1 = int(input(\"enter number1\"))\n",
    "num2 = int(input(\"enter number2\"))\n",
    "c = add(num1 , num2)\n",
    "print(\"the sum is\",c)"
   ]
  },
  {
   "cell_type": "code",
   "execution_count": null,
   "id": "69509b5c",
   "metadata": {},
   "outputs": [],
   "source": [
    "def check_even_odd(a):\n",
    "    if a % 2 == 0:\n",
    "        print(\"the number is even\")\n",
    "    else:\n",
    "        print(\"the number is odd\")\n",
    "num = int(input(\"enter the number to check\"))\n",
    "check_even_odd(num)"
   ]
  },
  {
   "cell_type": "code",
   "execution_count": null,
   "id": "fbfcd6a6",
   "metadata": {},
   "outputs": [],
   "source": [
    "def rev(a):\n",
    "    return a[::-1]\n",
    "name = input(\"enter the name\")\n",
    "reverse = print(\"the reverse of a string is\",rev(name))"
   ]
  },
  {
   "cell_type": "code",
   "execution_count": null,
   "id": "f884f52d",
   "metadata": {},
   "outputs": [],
   "source": [
    "def greatest(a , b ,c ):\n",
    "    if (a>b and a>c):\n",
    "        print(a,\"is greatest\")\n",
    "    elif(b>a and b>c):\n",
    "        print(b,\"is greatest\")\n",
    "    else:\n",
    "        print(c,\"is greatest\")\n",
    "num1= int(input(\"Enter number 1\"))\n",
    "num2= int(input(\"Enter number 2\"))\n",
    "num3= int(input(\"Enter number 3\"))\n",
    "greatest(num1 , num2 , num3)\n"
   ]
  },
  {
   "cell_type": "code",
   "execution_count": null,
   "id": "b3ba2177",
   "metadata": {},
   "outputs": [],
   "source": [
    "def sumlist():\n",
    "    name = []\n",
    "    while True:\n",
    "    \n",
    "        num = int(input(\"enter the number\"))\n",
    "        \n",
    "            \n",
    "        if num<0:\n",
    "            break\n",
    "        name.append(num)\n",
    "    sum=0\n",
    "    for j in name:\n",
    "        \n",
    "        sum = sum + j\n",
    "    print(sum)\n",
    "\n",
    "sumlist()"
   ]
  },
  {
   "cell_type": "code",
   "execution_count": null,
   "id": "b58fdb7c",
   "metadata": {},
   "outputs": [],
   "source": [
    "def fibonacci(a):\n",
    "    num1 = 0 \n",
    "    num2 = 1\n",
    "    count = 0\n",
    "    while count<a:\n",
    "        print(num1)\n",
    "        num3 = num1+num2\n",
    "        num1= num2 \n",
    "        num2 = num3\n",
    "        count = count+1\n",
    "fibonacci(4)\n",
    "\n"
   ]
  },
  {
   "cell_type": "markdown",
   "id": "aeea1a0a",
   "metadata": {},
   "source": [
    "### Types of Function Arguments in Python:\n"
   ]
  },
  {
   "cell_type": "markdown",
   "id": "953b6059",
   "metadata": {},
   "source": [
    "### 1. Positional Arguments\n",
    "Values passed in order and assigned to parameters by position."
   ]
  },
  {
   "cell_type": "code",
   "execution_count": null,
   "id": "62b66aca",
   "metadata": {},
   "outputs": [],
   "source": [
    "def greet(name , age):\n",
    "    print(\"hello\",name,\"your age is\",age)\n",
    "greet(\"sarthak\" , 20)"
   ]
  },
  {
   "cell_type": "markdown",
   "id": "84a9582b",
   "metadata": {},
   "source": [
    "### Keyword Arguments\n",
    " You tell Python clearly which value goes where."
   ]
  },
  {
   "cell_type": "code",
   "execution_count": null,
   "id": "1a91c386",
   "metadata": {},
   "outputs": [],
   "source": [
    "def hello(name1 , age1):\n",
    "    print(\"your age is\", age1  , \"and your name is\" , name1 )\n",
    "hello(age1 = 20 , name1 = \"sarthak\")"
   ]
  },
  {
   "cell_type": "markdown",
   "id": "f2630207",
   "metadata": {},
   "source": [
    "### Default Arguments\n",
    "If you don’t give a value, Python will use the default."
   ]
  },
  {
   "cell_type": "code",
   "execution_count": null,
   "id": "27931256",
   "metadata": {},
   "outputs": [],
   "source": [
    "def multiply(a ,b=3):\n",
    "    print(\"the product is\" , a*b)\n",
    "multiply(3,7)     #here we give 2 values so a= 3 and b = 7 so default value is overwritten\n",
    "multiply(4)       # here we dont pass the value of b so b will be taken as 3 by default"
   ]
  },
  {
   "cell_type": "markdown",
   "id": "3f0e399b",
   "metadata": {},
   "source": [
    "### args — Many Values\n",
    "When you don’t know how many values will come. (make it tuple)"
   ]
  },
  {
   "cell_type": "code",
   "execution_count": null,
   "id": "620a06b6",
   "metadata": {},
   "outputs": [],
   "source": [
    "def add(*num):        # syntax - fuction(*args) - * is for tuple ** for dictionary\n",
    "    sum = 0\n",
    "    for i in num:\n",
    "        sum = sum+i\n",
    "    print(sum)\n",
    "add(3,5,6,7,7)"
   ]
  },
  {
   "cell_type": "markdown",
   "id": "d2e93a80",
   "metadata": {},
   "source": [
    "### Practise for Function Arguments"
   ]
  },
  {
   "cell_type": "code",
   "execution_count": null,
   "id": "aa28b4a9",
   "metadata": {},
   "outputs": [],
   "source": [
    "# Write a function greet(name, city) that prints:\n",
    "\"Hello [name] from [city]!\"\n",
    "\n",
    "def message(name , city):\n",
    "    print(\"hello\",name,\"from\" , city)\n",
    "message(\"sarthak\" , \"Meerut\")\n",
    "\n",
    "# Call the same function using keyword arguments in random order.\n",
    "\n",
    "message(city = \"delhi\" , name = \"Samay\")"
   ]
  },
  {
   "cell_type": "code",
   "execution_count": null,
   "id": "3cbd2200",
   "metadata": {},
   "outputs": [],
   "source": [
    "# Write a function that prints name and age. Give age a default value of 18.\n",
    "\n",
    "def detail(name , age = 18):\n",
    "    print(\"your name is\" ,name , \"of age\", age )\n",
    "\n",
    "detail(\"sarthak\", 20)\n",
    "\n",
    "# Call it once with age and once without age.\n",
    "detail(\"khushi\")"
   ]
  },
  {
   "cell_type": "code",
   "execution_count": null,
   "id": "3ea27100",
   "metadata": {},
   "outputs": [],
   "source": [
    "# Write a function that prints each item in *args on a new line.\n",
    "def newline(*number):\n",
    "    for i in number:\n",
    "        print(i)\n",
    "\n",
    "newline(3, 7 , 8 , 9)"
   ]
  },
  {
   "cell_type": "markdown",
   "id": "047f4666",
   "metadata": {},
   "source": [
    "### What is **kwargs?\n",
    "**kwargs lets you pass any number of keyword arguments (like key=value pairs) to a function.\n",
    "\n",
    "It stores them as a dictionary inside the function."
   ]
  },
  {
   "cell_type": "code",
   "execution_count": 1,
   "id": "affeba0d",
   "metadata": {},
   "outputs": [
    {
     "name": "stdout",
     "output_type": "stream",
     "text": [
      "{'name': 'Sarthak', 'age': 20, 'city': 'Delhi'}\n"
     ]
    }
   ],
   "source": [
    "def print_info(**kwargs):\n",
    "    print(kwargs)\n",
    "\n",
    "print_info(name=\"Sarthak\", age=20, city=\"Delhi\")\n"
   ]
  }
 ],
 "metadata": {
  "kernelspec": {
   "display_name": "Python 3",
   "language": "python",
   "name": "python3"
  },
  "language_info": {
   "codemirror_mode": {
    "name": "ipython",
    "version": 3
   },
   "file_extension": ".py",
   "mimetype": "text/x-python",
   "name": "python",
   "nbconvert_exporter": "python",
   "pygments_lexer": "ipython3",
   "version": "3.13.3"
  }
 },
 "nbformat": 4,
 "nbformat_minor": 5
}
