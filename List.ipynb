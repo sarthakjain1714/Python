{
 "cells": [
  {
   "cell_type": "markdown",
   "id": "7e047901",
   "metadata": {},
   "source": [
    "# List in Python\n",
    "List ia the ordered collection where we can store multiple value\n",
    "Syntax - square bracket\n",
    "```\n",
    "list = [1,2,3,4]"
   ]
  },
  {
   "cell_type": "code",
   "execution_count": null,
   "id": "1f183e76",
   "metadata": {},
   "outputs": [],
   "source": [
    "list = [10,20,30,40,50,60,70,80,90]\n",
    "for i in list:\n",
    "    print(i)\n",
    "  "
   ]
  },
  {
   "cell_type": "code",
   "execution_count": null,
   "id": "ea4d661e",
   "metadata": {},
   "outputs": [],
   "source": [
    "print(list[1:4])   # print number from index 1 to end index-1 \n",
    "print(list[1:9:2])\n",
    "print(list[::-1])"
   ]
  },
  {
   "cell_type": "markdown",
   "id": "af03d6de",
   "metadata": {},
   "source": [
    "### List methods"
   ]
  },
  {
   "cell_type": "markdown",
   "id": "f4454176",
   "metadata": {},
   "source": [
    "### 1- list.append(value)\n",
    "it end 'value' at the end of list"
   ]
  },
  {
   "cell_type": "code",
   "execution_count": 16,
   "id": "7bde8464",
   "metadata": {},
   "outputs": [
    {
     "name": "stdout",
     "output_type": "stream",
     "text": [
      "[10, 20, 30, 40, 50, 60, 70, 80, 90, 100]\n"
     ]
    }
   ],
   "source": [
    "list.append(100)\n",
    "print(list)"
   ]
  },
  {
   "cell_type": "markdown",
   "id": "058a5353",
   "metadata": {},
   "source": [
    "### 2- list.sort()\n",
    "by default it sort the value in list in ascending order but when put list.sort(reverse = True) - it sort in descending order"
   ]
  },
  {
   "cell_type": "code",
   "execution_count": 21,
   "id": "8691f1c6",
   "metadata": {},
   "outputs": [
    {
     "name": "stdout",
     "output_type": "stream",
     "text": [
      "[10, 20, 30, 40, 50]\n",
      "[50, 40, 30, 20, 10]\n"
     ]
    }
   ],
   "source": [
    "list1 = [50,30,20,40,10]\n",
    "list1.sort()\n",
    "print(list1)\n",
    "\n",
    "# if sort(reverse = True) - list in descending order\n",
    "list1.sort(reverse = True)\n",
    "print(list1)"
   ]
  },
  {
   "cell_type": "markdown",
   "id": "84364bdf",
   "metadata": {},
   "source": [
    "### 3- list.reverse()\n",
    "it reverse the entire list\n",
    "like list[ : :-1]"
   ]
  },
  {
   "cell_type": "code",
   "execution_count": 20,
   "id": "0ecb695b",
   "metadata": {},
   "outputs": [
    {
     "name": "stdout",
     "output_type": "stream",
     "text": [
      "[10, 20, 30, 40, 50, 60, 70, 80, 90, 100]\n"
     ]
    }
   ],
   "source": [
    "list.reverse()\n",
    "print(list)"
   ]
  },
  {
   "cell_type": "markdown",
   "id": "9fc69f9f",
   "metadata": {},
   "source": [
    "### 4 - list.index(value)\n",
    "it find the index of 'value' at it's first occurence\n",
    " "
   ]
  },
  {
   "cell_type": "code",
   "execution_count": null,
   "id": "c63432b6",
   "metadata": {},
   "outputs": [
    {
     "data": {
      "text/plain": [
       "2"
      ]
     },
     "execution_count": 22,
     "metadata": {},
     "output_type": "execute_result"
    }
   ],
   "source": [
    "list.index(30) # first occurence index only"
   ]
  },
  {
   "cell_type": "markdown",
   "id": "8f3eba26",
   "metadata": {},
   "source": [
    "### 5- list.count(value)\n",
    "it count the total time 'value' occur inside the list"
   ]
  },
  {
   "cell_type": "code",
   "execution_count": 26,
   "id": "4d1ff30d",
   "metadata": {},
   "outputs": [
    {
     "data": {
      "text/plain": [
       "4"
      ]
     },
     "execution_count": 26,
     "metadata": {},
     "output_type": "execute_result"
    }
   ],
   "source": [
    "list2= [1,5,4,5,2,2,2,2]\n",
    "list2.count(2)"
   ]
  },
  {
   "cell_type": "markdown",
   "id": "9bad6b39",
   "metadata": {},
   "source": [
    "### 6- list.extend(another list)\n",
    "it add another list to 'list'"
   ]
  },
  {
   "cell_type": "code",
   "execution_count": 28,
   "id": "7a974c47",
   "metadata": {},
   "outputs": [
    {
     "name": "stdout",
     "output_type": "stream",
     "text": [
      "[10, 20, 30, 40, 50, 60, 70, 80, 90, 100, 50, 40, 30, 20, 10, 50, 40, 30, 20, 10]\n"
     ]
    }
   ],
   "source": [
    "list.extend(list1)\n",
    "print(list)"
   ]
  },
  {
   "cell_type": "markdown",
   "id": "d420a570",
   "metadata": {},
   "source": [
    "### simple list addition\n",
    "add 2 list with + operator "
   ]
  },
  {
   "cell_type": "code",
   "execution_count": 29,
   "id": "2d0ecc3e",
   "metadata": {},
   "outputs": [
    {
     "name": "stdout",
     "output_type": "stream",
     "text": [
      "[10, 20, 30, 40, 50, 60, 70, 80, 90, 100, 50, 40, 30, 20, 10, 50, 40, 30, 20, 10, 50, 40, 30, 20, 10]\n"
     ]
    }
   ],
   "source": [
    "l3 = list + list1\n",
    "print(l3)"
   ]
  },
  {
   "cell_type": "markdown",
   "id": "a80cd973",
   "metadata": {},
   "source": [
    "## Practise Question"
   ]
  },
  {
   "cell_type": "code",
   "execution_count": 30,
   "id": "ad389143",
   "metadata": {},
   "outputs": [
    {
     "name": "stdout",
     "output_type": "stream",
     "text": [
      "5\n",
      "10\n",
      "15\n",
      "20\n",
      "25\n"
     ]
    }
   ],
   "source": [
    "#Print each element of the list:\n",
    "#list = [5, 10, 15, 20, 25]\n",
    "list = [5, 10, 15, 20, 25]\n",
    "for i in list:\n",
    "    print(i)\n"
   ]
  },
  {
   "cell_type": "code",
   "execution_count": null,
   "id": "a8b40c4e",
   "metadata": {},
   "outputs": [
    {
     "name": "stdout",
     "output_type": "stream",
     "text": [
      "[15, 25]\n"
     ]
    }
   ],
   "source": [
    "# Print elements at even indexes only.\n",
    "list = [5, 10, 15, 20, 25]\n",
    "print(list[2:5:2])"
   ]
  }
 ],
 "metadata": {
  "kernelspec": {
   "display_name": "Python 3",
   "language": "python",
   "name": "python3"
  },
  "language_info": {
   "codemirror_mode": {
    "name": "ipython",
    "version": 3
   },
   "file_extension": ".py",
   "mimetype": "text/x-python",
   "name": "python",
   "nbconvert_exporter": "python",
   "pygments_lexer": "ipython3",
   "version": "3.13.3"
  }
 },
 "nbformat": 4,
 "nbformat_minor": 5
}
