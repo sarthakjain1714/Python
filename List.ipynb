{
 "cells": [
  {
   "cell_type": "markdown",
   "id": "7e047901",
   "metadata": {},
   "source": [
    "# List in Python\n",
    "List ia the ordered collection where we can store multiple value\n",
    "Syntax - square bracket\n",
    "```\n",
    "list = [1,2,3,4]"
   ]
  },
  {
   "cell_type": "code",
   "execution_count": null,
   "id": "1f183e76",
   "metadata": {},
   "outputs": [
    {
     "name": "stdout",
     "output_type": "stream",
     "text": [
      "10\n",
      "20\n",
      "30\n",
      "40\n",
      "50\n"
     ]
    }
   ],
   "source": [
    "list = [10,20,30,40,50,60,70,80,90]\n",
    "for i in list:\n",
    "    print(i)\n",
    "  "
   ]
  },
  {
   "cell_type": "code",
   "execution_count": 8,
   "id": "ea4d661e",
   "metadata": {},
   "outputs": [
    {
     "name": "stdout",
     "output_type": "stream",
     "text": [
      "[20, 30, 40]\n",
      "[20, 40]\n"
     ]
    }
   ],
   "source": [
    "print(list[1:4])   # print number from index 1 to end index-1 \n",
    "print(list[1:9:2])"
   ]
  },
  {
   "cell_type": "markdown",
   "id": "af03d6de",
   "metadata": {},
   "source": []
  }
 ],
 "metadata": {
  "kernelspec": {
   "display_name": "Python 3",
   "language": "python",
   "name": "python3"
  },
  "language_info": {
   "codemirror_mode": {
    "name": "ipython",
    "version": 3
   },
   "file_extension": ".py",
   "mimetype": "text/x-python",
   "name": "python",
   "nbconvert_exporter": "python",
   "pygments_lexer": "ipython3",
   "version": "3.13.3"
  }
 },
 "nbformat": 4,
 "nbformat_minor": 5
}
